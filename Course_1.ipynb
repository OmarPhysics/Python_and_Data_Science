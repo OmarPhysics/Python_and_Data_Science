{
  "nbformat": 4,
  "nbformat_minor": 0,
  "metadata": {
    "colab": {
      "name": "Course 1.ipynb",
      "provenance": [],
      "toc_visible": true,
      "authorship_tag": "ABX9TyMTM1OHek5I9DLVxETerquX",
      "include_colab_link": true
    },
    "kernelspec": {
      "name": "python3",
      "display_name": "Python 3"
    },
    "language_info": {
      "name": "python"
    }
  },
  "cells": [
    {
      "cell_type": "markdown",
      "metadata": {
        "id": "view-in-github",
        "colab_type": "text"
      },
      "source": [
        "<a href=\"https://colab.research.google.com/github/OmarPhysics/Python_and_Data_Science/blob/main/Course_1.ipynb\" target=\"_parent\"><img src=\"https://colab.research.google.com/assets/colab-badge.svg\" alt=\"Open In Colab\"/></a>"
      ]
    },
    {
      "cell_type": "markdown",
      "metadata": {
        "id": "e_rbuc6DCVbe"
      },
      "source": [
        "## Course 1 - Programming for Everybody\n"
      ]
    },
    {
      "cell_type": "markdown",
      "metadata": {
        "id": "O6tzJi8xDChx"
      },
      "source": [
        "Sequential Steps"
      ]
    },
    {
      "cell_type": "code",
      "metadata": {
        "colab": {
          "base_uri": "https://localhost:8080/"
        },
        "id": "_rsWmzPhCTKG",
        "outputId": "4b6e4747-d853-46b5-e202-de8573bacdf8"
      },
      "source": [
        "x = 2\n",
        "print(x)\n",
        "x = x + 2\n",
        "print (x)"
      ],
      "execution_count": 1,
      "outputs": [
        {
          "output_type": "stream",
          "name": "stdout",
          "text": [
            "2\n",
            "4\n"
          ]
        }
      ]
    },
    {
      "cell_type": "markdown",
      "metadata": {
        "id": "FEgoE1-cDMh9"
      },
      "source": [
        "Conditional Steps"
      ]
    },
    {
      "cell_type": "code",
      "metadata": {
        "id": "n9QsMkU_C-BJ",
        "colab": {
          "base_uri": "https://localhost:8080/"
        },
        "outputId": "4808fa75-2411-4f02-bcf7-c4d8e57da255"
      },
      "source": [
        "x = input(\"Enter a number between 0 and 30: \")\n",
        "x = float(x)\n",
        "if x < 10:\n",
        "  print(\"Smaller\")\n",
        "if x > 20:\n",
        "  print(\"Bigger\")\n",
        "print(\"Finish\")      "
      ],
      "execution_count": 7,
      "outputs": [
        {
          "output_type": "stream",
          "name": "stdout",
          "text": [
            "Enter a number between 0 and 30: 25\n",
            "Bigger\n",
            "Finish\n"
          ]
        }
      ]
    },
    {
      "cell_type": "markdown",
      "metadata": {
        "id": "vqE_yos2BdKn"
      },
      "source": [
        "Repeated Steps: Loops (repeated steps) have iteration variables that change each time through a loop. "
      ]
    },
    {
      "cell_type": "code",
      "metadata": {
        "colab": {
          "base_uri": "https://localhost:8080/"
        },
        "id": "venL1jkIBMWy",
        "outputId": "d53842a0-ead3-483c-868d-03eef13efd89"
      },
      "source": [
        "n = 5\n",
        "while n > 0:\n",
        "  print(n)\n",
        "  n = n - 1\n",
        "print(\"Blastoff\")  "
      ],
      "execution_count": 9,
      "outputs": [
        {
          "output_type": "stream",
          "name": "stdout",
          "text": [
            "5\n",
            "4\n",
            "3\n",
            "2\n",
            "1\n",
            "Blastoff\n"
          ]
        }
      ]
    },
    {
      "cell_type": "markdown",
      "metadata": {
        "id": "Zm36duVDCS20"
      },
      "source": [
        "Constants: Fixed values such as numbers, letters, and strings, are called \"constants\" because their value does not change.\n",
        "\n",
        "Variables: A variable is a named place in the memory where a programmer can store data and later retrieve the data using the variable \"name\"\n",
        "\n"
      ]
    },
    {
      "cell_type": "code",
      "metadata": {
        "colab": {
          "base_uri": "https://localhost:8080/"
        },
        "id": "mV8mEABRBqMJ",
        "outputId": "709a7f7b-f3f1-4491-8e67-87287ae09873"
      },
      "source": [
        "print(\"Constants:\")\n",
        "print(123)\n",
        "print(98.6)\n",
        "print(\"Hello world\")\n",
        "print(\"\\n\")\n",
        "print(\"Variables:\") \n",
        "x = 12.2\n",
        "print(x)\n",
        "y = 14\n",
        "print(y)\n",
        "x = 100\n",
        "print(x)\n",
        "x = 3.9 * x * (1 - x)\n",
        "print(x)"
      ],
      "execution_count": 22,
      "outputs": [
        {
          "output_type": "stream",
          "name": "stdout",
          "text": [
            "Constants:\n",
            "123\n",
            "98.6\n",
            "Hello world\n",
            "\n",
            "\n",
            "Variables:\n",
            "12.2\n",
            "14\n",
            "100\n",
            "-38610.0\n"
          ]
        }
      ]
    },
    {
      "cell_type": "markdown",
      "metadata": {
        "id": "kY75Ib8rEEkA"
      },
      "source": [
        "Numeric Expressions"
      ]
    },
    {
      "cell_type": "code",
      "metadata": {
        "colab": {
          "base_uri": "https://localhost:8080/"
        },
        "id": "2tnL3gk7C17o",
        "outputId": "416e3df4-f951-4648-e297-04c4cb4e823c"
      },
      "source": [
        "xx = 2\n",
        "xx = xx + 2\n",
        "print(xx)\n",
        "\n",
        "yy = 440 * 12\n",
        "print(yy)\n",
        "\n",
        "zz = yy / 1000\n",
        "print(zz)\n",
        "\n",
        "jj = 23\n",
        "kk = jj % 5\n",
        "print(kk)\n",
        "\n",
        "print(4 ** 3)\n",
        "\n",
        "x = 1 + 2 ** 3 / 4 * 5\n",
        "print(x)"
      ],
      "execution_count": 24,
      "outputs": [
        {
          "output_type": "stream",
          "name": "stdout",
          "text": [
            "4\n",
            "5280\n",
            "5.28\n",
            "3\n",
            "64\n",
            "11.0\n"
          ]
        }
      ]
    },
    {
      "cell_type": "markdown",
      "metadata": {
        "id": "OEVJIfEQE64X"
      },
      "source": [
        "Type Matters: Python knows what \"type\" everything is"
      ]
    },
    {
      "cell_type": "code",
      "metadata": {
        "colab": {
          "base_uri": "https://localhost:8080/"
        },
        "id": "X1T2yLzVEezu",
        "outputId": "7e1aa397-5e6f-43c7-a88f-9e3cb8b180d3"
      },
      "source": [
        "eee = \"hello \" + \"there\"\n",
        "print(eee)\n",
        "print(type(eee))\n",
        "\n",
        "xx = 1\n",
        "print(type(xx))\n",
        "\n",
        "temp = 98.6\n",
        "print(type(temp))\n",
        "\n",
        "a = float(99) + 100\n",
        "print(a)\n",
        "print(type(a))\n",
        "\n",
        "sval = \"123\"\n",
        "ival = int(sval)\n",
        "print(sval)\n",
        "print(type(sval))\n",
        "print(ival)\n",
        "print(type(ival))"
      ],
      "execution_count": 36,
      "outputs": [
        {
          "output_type": "stream",
          "name": "stdout",
          "text": [
            "hello there\n",
            "<class 'str'>\n",
            "<class 'int'>\n",
            "<class 'float'>\n",
            "199.0\n",
            "<class 'float'>\n",
            "123\n",
            "<class 'str'>\n",
            "123\n",
            "<class 'int'>\n"
          ]
        }
      ]
    },
    {
      "cell_type": "markdown",
      "metadata": {
        "id": "Jslx7FZ5GKYN"
      },
      "source": [
        "User Input"
      ]
    },
    {
      "cell_type": "code",
      "metadata": {
        "colab": {
          "base_uri": "https://localhost:8080/"
        },
        "id": "ukpbbmWyFOwU",
        "outputId": "160d7247-16b4-4210-e1a2-f91592956157"
      },
      "source": [
        "nam = input(\"Who are you?\")\n",
        "print(\"Welcome\", nam)"
      ],
      "execution_count": 37,
      "outputs": [
        {
          "output_type": "stream",
          "name": "stdout",
          "text": [
            "Who are you?Omar\n",
            "Welcome Omar\n"
          ]
        }
      ]
    },
    {
      "cell_type": "markdown",
      "metadata": {
        "id": "-joRYUNKGgi6"
      },
      "source": [
        "Comments in Python: Anything after a # is ignored by python"
      ]
    },
    {
      "cell_type": "code",
      "metadata": {
        "colab": {
          "base_uri": "https://localhost:8080/"
        },
        "id": "sQqA5GRwGQ-s",
        "outputId": "6d465d04-b0d6-470d-a2d5-be0147f6265f"
      },
      "source": [
        "# Convert elevator floors\n",
        "inp = input(\"Europe floor? \")\n",
        "usf = int(inp) + 1\n",
        "print(\"US floor\", usf)"
      ],
      "execution_count": 39,
      "outputs": [
        {
          "output_type": "stream",
          "name": "stdout",
          "text": [
            "Europe floor?4\n",
            "US floor 5\n"
          ]
        }
      ]
    },
    {
      "cell_type": "markdown",
      "metadata": {
        "id": "z9S-dDhiIERr"
      },
      "source": [
        "Comparison Operators\n"
      ]
    },
    {
      "cell_type": "code",
      "metadata": {
        "colab": {
          "base_uri": "https://localhost:8080/"
        },
        "id": "6YqegXlCHhwr",
        "outputId": "1d5fe0f1-1044-44de-9ce2-837371131ef6"
      },
      "source": [
        "x = 5\n",
        "if x == 5:\n",
        "  print(\"Equals 5\")\n",
        "if x > 4:\n",
        "  print(\"Greater than 4\")\n",
        "if x >= 5:\n",
        "  print(\"Greater then or Equals 5\")\n",
        "if x < 6:\n",
        "  print(\"Less than 6\")\n",
        "if x <= 5:\n",
        "  print(\"Less than or Equal 5\")\n",
        "if x != 6:\n",
        "  print(\"Not equal 6\")    "
      ],
      "execution_count": 43,
      "outputs": [
        {
          "output_type": "stream",
          "name": "stdout",
          "text": [
            "Equals 5\n",
            "Greater than 4\n",
            "Greater then or Equals 5\n",
            "Less than 6\n",
            "Less than or Equal 5\n",
            "Not equal 6\n"
          ]
        }
      ]
    },
    {
      "cell_type": "markdown",
      "metadata": {
        "id": "fHBa2IuNJNOF"
      },
      "source": [
        "One-Way Decisions"
      ]
    },
    {
      "cell_type": "code",
      "metadata": {
        "colab": {
          "base_uri": "https://localhost:8080/"
        },
        "id": "2Z1w2_riI5Op",
        "outputId": "ffe9013b-52a8-4c7e-b3bd-04391cb0352e"
      },
      "source": [
        "x = 5\n",
        "if x == 5:\n",
        "  print(\"It is 5\")\n",
        "# The next is ignored.  \n",
        "if x == 6:\n",
        "  print(\"It is 6\")\n",
        "print(\"Finish\")    "
      ],
      "execution_count": 45,
      "outputs": [
        {
          "output_type": "stream",
          "name": "stdout",
          "text": [
            "It is 5\n",
            "Finish\n"
          ]
        }
      ]
    },
    {
      "cell_type": "markdown",
      "metadata": {
        "id": "xxv8vwM_Jyh1"
      },
      "source": [
        "Nested Decisions\n"
      ]
    },
    {
      "cell_type": "code",
      "metadata": {
        "colab": {
          "base_uri": "https://localhost:8080/"
        },
        "id": "agOagd9mJfFG",
        "outputId": "ddd720b4-6429-4b28-e8dc-b34a747cc1e1"
      },
      "source": [
        "x = 42\n",
        "if x > 1:\n",
        "  print(\"More than 1\")\n",
        "  if x < 100:\n",
        "    print(\"Less than 100\")\n",
        "print(\"The number is:\", x)    "
      ],
      "execution_count": 48,
      "outputs": [
        {
          "output_type": "stream",
          "name": "stdout",
          "text": [
            "More than 1\n",
            "Less than 100\n",
            "The number is: 42\n"
          ]
        }
      ]
    },
    {
      "cell_type": "markdown",
      "metadata": {
        "id": "uB5JkmZZKOrM"
      },
      "source": [
        "Two- Way Decisions with else"
      ]
    },
    {
      "cell_type": "code",
      "metadata": {
        "colab": {
          "base_uri": "https://localhost:8080/"
        },
        "id": "b6fC4JDKKFZa",
        "outputId": "87370110-becf-4d09-8377-cc7a91022d27"
      },
      "source": [
        "x = 4\n",
        "if x > 2:\n",
        "  print(\"Bigger\")\n",
        "else:\n",
        "  print(\"Smaller\")\n",
        "print(\"All done\")    "
      ],
      "execution_count": 49,
      "outputs": [
        {
          "output_type": "stream",
          "name": "stdout",
          "text": [
            "Bigger\n",
            "All done\n"
          ]
        }
      ]
    },
    {
      "cell_type": "markdown",
      "metadata": {
        "id": "FYLzNgzKKlao"
      },
      "source": [
        "Multi-way Decisions"
      ]
    },
    {
      "cell_type": "code",
      "metadata": {
        "colab": {
          "base_uri": "https://localhost:8080/"
        },
        "id": "bRfGA12LKc8T",
        "outputId": "b8006119-3fc7-4126-fa50-d79095abfc56"
      },
      "source": [
        "x = 20\n",
        "if x < 2:\n",
        "  print(\"Small\")\n",
        "elif x < 10:\n",
        "  print(\"Medium\")\n",
        "else:\n",
        "  print(\"Large\")\n",
        "print(\"All done\")   \n",
        "\n",
        "# No else\n",
        "y = 5\n",
        "if y < 2:\n",
        "  print(\"Small\")\n",
        "elif y < 10:\n",
        "  print(\"Medium\")\n",
        "print(\"All done\")   "
      ],
      "execution_count": 53,
      "outputs": [
        {
          "output_type": "stream",
          "name": "stdout",
          "text": [
            "Large\n",
            "All done\n",
            "Medium\n",
            "All done\n"
          ]
        }
      ]
    },
    {
      "cell_type": "markdown",
      "metadata": {
        "id": "38gyWJqKLotu"
      },
      "source": [
        "The Try/except Structure"
      ]
    },
    {
      "cell_type": "code",
      "metadata": {
        "colab": {
          "base_uri": "https://localhost:8080/"
        },
        "id": "VLDVKBdqK5Gq",
        "outputId": "dc0ced00-7e77-4caf-9d01-5f2778cc5c4a"
      },
      "source": [
        "# When the first conversion fails - it just drops into the except: clause and the program continues.\n",
        "astr = \"Hello bob\"\n",
        "try:\n",
        "  istr = int(astr)\n",
        "except:\n",
        "  istr = -1 \n",
        "print(\"First\", istr)   \n",
        "\n",
        "# When the second conversion succeeds - it just skips the except: clause and the program continues.\n",
        "astr = \"123\"\n",
        "try:\n",
        "  istr = int(astr)\n",
        "except:\n",
        "  istr = -1 \n",
        "print(\"Second\", istr)   "
      ],
      "execution_count": 56,
      "outputs": [
        {
          "output_type": "stream",
          "name": "stdout",
          "text": [
            "First -1\n",
            "Second 123\n"
          ]
        }
      ]
    },
    {
      "cell_type": "code",
      "metadata": {
        "id": "KjkY5auyL65I"
      },
      "source": [
        ""
      ],
      "execution_count": null,
      "outputs": []
    }
  ]
}