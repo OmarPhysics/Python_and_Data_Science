{
  "nbformat": 4,
  "nbformat_minor": 0,
  "metadata": {
    "colab": {
      "name": "Course 1.ipynb",
      "provenance": [],
      "toc_visible": true,
      "include_colab_link": true
    },
    "kernelspec": {
      "name": "python3",
      "display_name": "Python 3"
    },
    "language_info": {
      "name": "python"
    }
  },
  "cells": [
    {
      "cell_type": "markdown",
      "metadata": {
        "id": "view-in-github",
        "colab_type": "text"
      },
      "source": [
        "<a href=\"https://colab.research.google.com/github/OmarPhysics/Python_and_Data_Science/blob/main/01_Python_for_Everybody/01_Programming_for_Everybody/Course_1.ipynb\" target=\"_parent\"><img src=\"https://colab.research.google.com/assets/colab-badge.svg\" alt=\"Open In Colab\"/></a>"
      ]
    },
    {
      "cell_type": "markdown",
      "metadata": {
        "id": "e_rbuc6DCVbe"
      },
      "source": [
        "## Course 1 - Programming for Everybody\n"
      ]
    },
    {
      "cell_type": "markdown",
      "metadata": {
        "id": "O6tzJi8xDChx"
      },
      "source": [
        "Sequential Steps"
      ]
    },
    {
      "cell_type": "code",
      "metadata": {
        "colab": {
          "base_uri": "https://localhost:8080/"
        },
        "id": "_rsWmzPhCTKG",
        "outputId": "c3a27f3a-11aa-4ef2-82dd-3a6877ff2944"
      },
      "source": [
        "x = 2\n",
        "print(x)\n",
        "x = x + 2\n",
        "print (x)"
      ],
      "execution_count": 1,
      "outputs": [
        {
          "output_type": "stream",
          "name": "stdout",
          "text": [
            "2\n",
            "4\n"
          ]
        }
      ]
    },
    {
      "cell_type": "markdown",
      "metadata": {
        "id": "FEgoE1-cDMh9"
      },
      "source": [
        "Conditional Steps"
      ]
    },
    {
      "cell_type": "code",
      "metadata": {
        "id": "n9QsMkU_C-BJ",
        "colab": {
          "base_uri": "https://localhost:8080/"
        },
        "outputId": "0c64e26c-9017-40b6-b0ba-44b0cbf0e183"
      },
      "source": [
        "x = input(\"Enter a number between 0 and 30: \")\n",
        "x = float(x)\n",
        "if x < 10:\n",
        "  print(\"Smaller\")\n",
        "if x > 20:\n",
        "  print(\"Bigger\")\n",
        "print(\"Finish\")      "
      ],
      "execution_count": 2,
      "outputs": [
        {
          "output_type": "stream",
          "name": "stdout",
          "text": [
            "Enter a number between 0 and 30: 5\n",
            "Smaller\n",
            "Finish\n"
          ]
        }
      ]
    },
    {
      "cell_type": "markdown",
      "metadata": {
        "id": "vqE_yos2BdKn"
      },
      "source": [
        "Repeated Steps: Loops (repeated steps) have iteration variables that change each time through a loop. "
      ]
    },
    {
      "cell_type": "code",
      "metadata": {
        "colab": {
          "base_uri": "https://localhost:8080/"
        },
        "id": "venL1jkIBMWy",
        "outputId": "07a1cefc-f303-4dde-99ac-f468a89682d2"
      },
      "source": [
        "n = 5\n",
        "while n > 0:\n",
        "  print(n)\n",
        "  n = n - 1\n",
        "print(\"Blastoff\")  "
      ],
      "execution_count": 3,
      "outputs": [
        {
          "output_type": "stream",
          "name": "stdout",
          "text": [
            "5\n",
            "4\n",
            "3\n",
            "2\n",
            "1\n",
            "Blastoff\n"
          ]
        }
      ]
    },
    {
      "cell_type": "markdown",
      "metadata": {
        "id": "Zm36duVDCS20"
      },
      "source": [
        "Constants: Fixed values such as numbers, letters, and strings, are called \"constants\" because their value does not change.\n",
        "\n",
        "Variables: A variable is a named place in the memory where a programmer can store data and later retrieve the data using the variable \"name\"\n",
        "\n"
      ]
    },
    {
      "cell_type": "code",
      "metadata": {
        "colab": {
          "base_uri": "https://localhost:8080/"
        },
        "id": "mV8mEABRBqMJ",
        "outputId": "b5584e43-30cd-499b-a46f-a46aee84ef1d"
      },
      "source": [
        "print(\"Constants:\")\n",
        "print(123)\n",
        "print(98.6)\n",
        "print(\"Hello world\")\n",
        "print(\"\\n\")\n",
        "print(\"Variables:\") \n",
        "x = 12.2\n",
        "print(x)\n",
        "y = 14\n",
        "print(y)\n",
        "x = 100\n",
        "print(x)\n",
        "x = 3.9 * x * (1 - x)\n",
        "print(x)"
      ],
      "execution_count": 4,
      "outputs": [
        {
          "output_type": "stream",
          "name": "stdout",
          "text": [
            "Constants:\n",
            "123\n",
            "98.6\n",
            "Hello world\n",
            "\n",
            "\n",
            "Variables:\n",
            "12.2\n",
            "14\n",
            "100\n",
            "-38610.0\n"
          ]
        }
      ]
    },
    {
      "cell_type": "markdown",
      "metadata": {
        "id": "kY75Ib8rEEkA"
      },
      "source": [
        "Numeric Expressions"
      ]
    },
    {
      "cell_type": "code",
      "metadata": {
        "colab": {
          "base_uri": "https://localhost:8080/"
        },
        "id": "2tnL3gk7C17o",
        "outputId": "afe3b8cb-9039-4764-bc84-d2b19f062d5b"
      },
      "source": [
        "xx = 2\n",
        "xx = xx + 2\n",
        "print(xx)\n",
        "\n",
        "yy = 440 * 12\n",
        "print(yy)\n",
        "\n",
        "zz = yy / 1000\n",
        "print(zz)\n",
        "\n",
        "jj = 23\n",
        "kk = jj % 5\n",
        "print(kk)\n",
        "\n",
        "print(4 ** 3)\n",
        "\n",
        "x = 1 + 2 ** 3 / 4 * 5\n",
        "print(x)"
      ],
      "execution_count": 5,
      "outputs": [
        {
          "output_type": "stream",
          "name": "stdout",
          "text": [
            "4\n",
            "5280\n",
            "5.28\n",
            "3\n",
            "64\n",
            "11.0\n"
          ]
        }
      ]
    },
    {
      "cell_type": "markdown",
      "metadata": {
        "id": "OEVJIfEQE64X"
      },
      "source": [
        "Type Matters: Python knows what \"type\" everything is"
      ]
    },
    {
      "cell_type": "code",
      "metadata": {
        "colab": {
          "base_uri": "https://localhost:8080/"
        },
        "id": "X1T2yLzVEezu",
        "outputId": "a06131e2-7dc8-4305-f581-13d2a256a5e3"
      },
      "source": [
        "eee = \"hello \" + \"there\"\n",
        "print(eee)\n",
        "print(type(eee))\n",
        "\n",
        "xx = 1\n",
        "print(type(xx))\n",
        "\n",
        "temp = 98.6\n",
        "print(type(temp))\n",
        "\n",
        "a = float(99) + 100\n",
        "print(a)\n",
        "print(type(a))\n",
        "\n",
        "sval = \"123\"\n",
        "ival = int(sval)\n",
        "print(sval)\n",
        "print(type(sval))\n",
        "print(ival)\n",
        "print(type(ival))"
      ],
      "execution_count": 6,
      "outputs": [
        {
          "output_type": "stream",
          "name": "stdout",
          "text": [
            "hello there\n",
            "<class 'str'>\n",
            "<class 'int'>\n",
            "<class 'float'>\n",
            "199.0\n",
            "<class 'float'>\n",
            "123\n",
            "<class 'str'>\n",
            "123\n",
            "<class 'int'>\n"
          ]
        }
      ]
    },
    {
      "cell_type": "markdown",
      "metadata": {
        "id": "Jslx7FZ5GKYN"
      },
      "source": [
        "User Input"
      ]
    },
    {
      "cell_type": "code",
      "metadata": {
        "colab": {
          "base_uri": "https://localhost:8080/"
        },
        "id": "ukpbbmWyFOwU",
        "outputId": "2f638250-404c-4942-ba92-e11f3826ccc7"
      },
      "source": [
        "nam = input(\"Who are you?\")\n",
        "print(\"Welcome\", nam)"
      ],
      "execution_count": 7,
      "outputs": [
        {
          "output_type": "stream",
          "name": "stdout",
          "text": [
            "Who are you?Omar\n",
            "Welcome Omar\n"
          ]
        }
      ]
    },
    {
      "cell_type": "markdown",
      "metadata": {
        "id": "-joRYUNKGgi6"
      },
      "source": [
        "Comments in Python: Anything after a # is ignored by python"
      ]
    },
    {
      "cell_type": "code",
      "metadata": {
        "colab": {
          "base_uri": "https://localhost:8080/"
        },
        "id": "sQqA5GRwGQ-s",
        "outputId": "18e1bdc4-86ff-473e-f1a1-bca261a8f4df"
      },
      "source": [
        "# Convert elevator floors\n",
        "inp = input(\"Europe floor? \")\n",
        "usf = int(inp) + 1\n",
        "print(\"US floor\", usf)"
      ],
      "execution_count": 8,
      "outputs": [
        {
          "output_type": "stream",
          "name": "stdout",
          "text": [
            "Europe floor? 5\n",
            "US floor 6\n"
          ]
        }
      ]
    },
    {
      "cell_type": "markdown",
      "metadata": {
        "id": "z9S-dDhiIERr"
      },
      "source": [
        "Comparison Operators\n"
      ]
    },
    {
      "cell_type": "code",
      "metadata": {
        "colab": {
          "base_uri": "https://localhost:8080/"
        },
        "id": "6YqegXlCHhwr",
        "outputId": "070f1c4b-1174-4dc2-f5a7-f08256b0f69b"
      },
      "source": [
        "x = 5\n",
        "if x == 5:\n",
        "  print(\"Equals 5\")\n",
        "if x > 4:\n",
        "  print(\"Greater than 4\")\n",
        "if x >= 5:\n",
        "  print(\"Greater then or Equals 5\")\n",
        "if x < 6:\n",
        "  print(\"Less than 6\")\n",
        "if x <= 5:\n",
        "  print(\"Less than or Equal 5\")\n",
        "if x != 6:\n",
        "  print(\"Not equal 6\")    "
      ],
      "execution_count": 9,
      "outputs": [
        {
          "output_type": "stream",
          "name": "stdout",
          "text": [
            "Equals 5\n",
            "Greater than 4\n",
            "Greater then or Equals 5\n",
            "Less than 6\n",
            "Less than or Equal 5\n",
            "Not equal 6\n"
          ]
        }
      ]
    },
    {
      "cell_type": "markdown",
      "metadata": {
        "id": "fHBa2IuNJNOF"
      },
      "source": [
        "One-Way Decisions"
      ]
    },
    {
      "cell_type": "code",
      "metadata": {
        "colab": {
          "base_uri": "https://localhost:8080/"
        },
        "id": "2Z1w2_riI5Op",
        "outputId": "9d42ac09-aad8-417f-cfae-29ff3ef30c3d"
      },
      "source": [
        "x = 5\n",
        "if x == 5:\n",
        "  print(\"It is 5\")\n",
        "# The next is ignored.  \n",
        "if x == 6:\n",
        "  print(\"It is 6\")\n",
        "print(\"Finish\")    "
      ],
      "execution_count": 10,
      "outputs": [
        {
          "output_type": "stream",
          "name": "stdout",
          "text": [
            "It is 5\n",
            "Finish\n"
          ]
        }
      ]
    },
    {
      "cell_type": "markdown",
      "metadata": {
        "id": "xxv8vwM_Jyh1"
      },
      "source": [
        "Nested Decisions\n"
      ]
    },
    {
      "cell_type": "code",
      "metadata": {
        "colab": {
          "base_uri": "https://localhost:8080/"
        },
        "id": "agOagd9mJfFG",
        "outputId": "8caafb8c-36a8-4c89-c9b9-da1c224cbede"
      },
      "source": [
        "x = 42\n",
        "if x > 1:\n",
        "  print(\"More than 1\")\n",
        "  if x < 100:\n",
        "    print(\"Less than 100\")\n",
        "print(\"The number is:\", x)    "
      ],
      "execution_count": 11,
      "outputs": [
        {
          "output_type": "stream",
          "name": "stdout",
          "text": [
            "More than 1\n",
            "Less than 100\n",
            "The number is: 42\n"
          ]
        }
      ]
    },
    {
      "cell_type": "markdown",
      "metadata": {
        "id": "uB5JkmZZKOrM"
      },
      "source": [
        "Two- Way Decisions with else"
      ]
    },
    {
      "cell_type": "code",
      "metadata": {
        "colab": {
          "base_uri": "https://localhost:8080/"
        },
        "id": "b6fC4JDKKFZa",
        "outputId": "3dd36c3c-9da3-4b5c-ed88-7c4b80b1d4cc"
      },
      "source": [
        "x = 4\n",
        "if x > 2:\n",
        "  print(\"Bigger\")\n",
        "else:\n",
        "  print(\"Smaller\")\n",
        "print(\"All done\")    "
      ],
      "execution_count": 12,
      "outputs": [
        {
          "output_type": "stream",
          "name": "stdout",
          "text": [
            "Bigger\n",
            "All done\n"
          ]
        }
      ]
    },
    {
      "cell_type": "markdown",
      "metadata": {
        "id": "FYLzNgzKKlao"
      },
      "source": [
        "Multi-way Decisions"
      ]
    },
    {
      "cell_type": "code",
      "metadata": {
        "colab": {
          "base_uri": "https://localhost:8080/"
        },
        "id": "bRfGA12LKc8T",
        "outputId": "6d9dad53-9fe7-4381-b138-ae8d17d20294"
      },
      "source": [
        "x = 20\n",
        "if x < 2:\n",
        "  print(\"Small\")\n",
        "elif x < 10:\n",
        "  print(\"Medium\")\n",
        "else:\n",
        "  print(\"Large\")\n",
        "print(\"All done\")   \n",
        "\n",
        "# No else\n",
        "y = 5\n",
        "if y < 2:\n",
        "  print(\"Small\")\n",
        "elif y < 10:\n",
        "  print(\"Medium\")\n",
        "print(\"All done\")   "
      ],
      "execution_count": 13,
      "outputs": [
        {
          "output_type": "stream",
          "name": "stdout",
          "text": [
            "Large\n",
            "All done\n",
            "Medium\n",
            "All done\n"
          ]
        }
      ]
    },
    {
      "cell_type": "markdown",
      "metadata": {
        "id": "38gyWJqKLotu"
      },
      "source": [
        "The Try/except Structure"
      ]
    },
    {
      "cell_type": "code",
      "metadata": {
        "colab": {
          "base_uri": "https://localhost:8080/"
        },
        "id": "VLDVKBdqK5Gq",
        "outputId": "e148996e-1972-4abf-b484-947d1ba1a9e5"
      },
      "source": [
        "# When the first conversion fails - it just drops into the except: clause and the program continues.\n",
        "astr = \"Hello bob\"\n",
        "try:\n",
        "  istr = int(astr)\n",
        "except:\n",
        "  istr = -1 \n",
        "print(\"First\", istr)   \n",
        "\n",
        "# When the second conversion succeeds - it just skips the except: clause and the program continues.\n",
        "astr = \"123\"\n",
        "try:\n",
        "  istr = int(astr)\n",
        "except:\n",
        "  istr = -1 \n",
        "print(\"Second\", istr)   "
      ],
      "execution_count": 14,
      "outputs": [
        {
          "output_type": "stream",
          "name": "stdout",
          "text": [
            "First -1\n",
            "Second 123\n"
          ]
        }
      ]
    },
    {
      "cell_type": "code",
      "metadata": {
        "colab": {
          "base_uri": "https://localhost:8080/"
        },
        "id": "KjkY5auyL65I",
        "outputId": "3889c3b3-1a08-42e2-fda9-7cf62f53ea9f"
      },
      "source": [
        "rawstr = input(\"Enter a number: \")\n",
        "try:\n",
        "  ival = int(rawstr)\n",
        "except:\n",
        "  ival = -1\n",
        "\n",
        "if ival > 0:\n",
        "  print(\"Nice work!\")\n",
        "else:\n",
        "  print(\"Not a number\")    "
      ],
      "execution_count": 15,
      "outputs": [
        {
          "output_type": "stream",
          "name": "stdout",
          "text": [
            "Enter a number: 5\n",
            "Nice work!\n"
          ]
        }
      ]
    },
    {
      "cell_type": "markdown",
      "metadata": {
        "id": "w9GzK7ciWDBY"
      },
      "source": [
        "Functions"
      ]
    },
    {
      "cell_type": "code",
      "metadata": {
        "id": "VzkTcjgKPRx6",
        "outputId": "d8bd66dd-8075-4594-872c-df4264535183",
        "colab": {
          "base_uri": "https://localhost:8080/"
        }
      },
      "source": [
        "def thing():\n",
        "  print(\"Hello\")\n",
        "  print(\"Fun\")\n",
        "\n",
        "thing()\n",
        "print(\"zip\")\n",
        "thing()"
      ],
      "execution_count": 16,
      "outputs": [
        {
          "output_type": "stream",
          "name": "stdout",
          "text": [
            "Hello\n",
            "Fun\n",
            "zip\n",
            "Hello\n",
            "Fun\n"
          ]
        }
      ]
    },
    {
      "cell_type": "code",
      "metadata": {
        "id": "vFD250W8WSPH"
      },
      "source": [
        ""
      ],
      "execution_count": null,
      "outputs": []
    }
  ]
}